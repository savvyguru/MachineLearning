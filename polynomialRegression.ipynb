{
  "nbformat": 4,
  "nbformat_minor": 0,
  "metadata": {
    "colab": {
      "name": "polynomialRegression.ipynb",
      "provenance": [],
      "authorship_tag": "ABX9TyPhixzQS0JB2YWoFyZpujRF",
      "include_colab_link": true
    },
    "kernelspec": {
      "name": "python3",
      "display_name": "Python 3"
    }
  },
  "cells": [
    {
      "cell_type": "markdown",
      "metadata": {
        "id": "view-in-github",
        "colab_type": "text"
      },
      "source": [
        "<a href=\"https://colab.research.google.com/github/savvyguru/MachineLearning/blob/master/polynomialRegression.ipynb\" target=\"_parent\"><img src=\"https://colab.research.google.com/assets/colab-badge.svg\" alt=\"Open In Colab\"/></a>"
      ]
    },
    {
      "cell_type": "code",
      "metadata": {
        "id": "z6YVN1J2N9LT",
        "colab_type": "code",
        "colab": {}
      },
      "source": [
        "from sklearn import datasets\n",
        "import matplotlib.pyplot as plt\n",
        "from sklearn.linear_model import LinearRegression\n",
        "from sklearn.metrics import mean_squared_error, r2_score\n",
        "from sklearn.preprocessing import PolynomialFeatures\n",
        "import numpy as np"
      ],
      "execution_count": 0,
      "outputs": []
    },
    {
      "cell_type": "code",
      "metadata": {
        "id": "ah2asKbKNKU9",
        "colab_type": "code",
        "colab": {}
      },
      "source": [
        "boston = datasets.load_boston()\n",
        "\n",
        "numVariables = 1\n",
        "x = boston.data[:, :numVariables]\n",
        "y = boston.target"
      ],
      "execution_count": 0,
      "outputs": []
    },
    {
      "cell_type": "code",
      "metadata": {
        "id": "NYPXugJ1O8bt",
        "colab_type": "code",
        "colab": {}
      },
      "source": [
        "# Split the data into training/testing sets\n",
        "x_train = X[:-20]\n",
        "x_test =  X[-20:]\n",
        "\n",
        "# Split the targets into training/testing sets\n",
        "y_train = y[:-20]\n",
        "y_test =  y[-20:]"
      ],
      "execution_count": 0,
      "outputs": []
    },
    {
      "cell_type": "code",
      "metadata": {
        "id": "XESI2RCvPa5W",
        "colab_type": "code",
        "colab": {}
      },
      "source": [
        "DEGREE = 3\n",
        "\n",
        "polynomial_features = PolynomialFeatures(degree = DEGREE)\n",
        "\n",
        "X_TRANSF = polynomial_features.fit_transform(x_train)"
      ],
      "execution_count": 0,
      "outputs": []
    },
    {
      "cell_type": "code",
      "metadata": {
        "id": "UySmWbB8SB6S",
        "colab_type": "code",
        "colab": {}
      },
      "source": [
        "Pr = LinearRegression()\n",
        "# Fit\n",
        "Pr.fit(X_TRANSF, y_train)\n",
        "\n",
        "# Obtain coefficients\n",
        "Pr.coef_\n",
        "\n",
        "#pred\n",
        "X_test = polynomial_features.fit_transform(x_test)\n",
        "y_pred = Pr.predict(X_test)"
      ],
      "execution_count": 0,
      "outputs": []
    },
    {
      "cell_type": "code",
      "metadata": {
        "id": "VE-3hY71SvnW",
        "colab_type": "code",
        "colab": {
          "base_uri": "https://localhost:8080/",
          "height": 85
        },
        "outputId": "80912c26-b735-49ba-abea-b16f2bfc29a6"
      },
      "source": [
        "print('Coefficients: \\n', Pr.coef_)\n",
        "print('Mean squared error: %.2f'\n",
        "      % mean_squared_error(y_test, y_pred))\n",
        "print('Coefficient of determination: %.2f'\n",
        "      % r2_score(y_test, y_pred))"
      ],
      "execution_count": 178,
      "outputs": [
        {
          "output_type": "stream",
          "text": [
            "Coefficients: \n",
            " [ 0.00000000e+00 -1.18943802e+00  2.54124706e-02 -1.61426841e-04]\n",
            "Mean squared error: 69.11\n",
            "Coefficient of determination: -1.96\n"
          ],
          "name": "stdout"
        }
      ]
    },
    {
      "cell_type": "code",
      "metadata": {
        "id": "gT2IykwgTi5M",
        "colab_type": "code",
        "colab": {
          "base_uri": "https://localhost:8080/",
          "height": 282
        },
        "outputId": "ffd84a31-9ded-436c-c3cc-e4ddb008b11a"
      },
      "source": [
        "plt.plot(X_test, y_pred)\n",
        "plt.scatter(X_train , y_train)"
      ],
      "execution_count": 179,
      "outputs": [
        {
          "output_type": "execute_result",
          "data": {
            "text/plain": [
              "<matplotlib.collections.PathCollection at 0x7f87003c3e10>"
            ]
          },
          "metadata": {
            "tags": []
          },
          "execution_count": 179
        },
        {
          "output_type": "display_data",
          "data": {
            "image/png": "[encoded data removed]",
            "text/plain": [
              "<Figure size 432x288 with 1 Axes>"
            ]
          },
          "metadata": {
            "tags": [],
            "needs_background": "light"
          }
        }
      ]
    }
  ]
}