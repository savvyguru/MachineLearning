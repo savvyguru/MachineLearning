{
  "nbformat": 4,
  "nbformat_minor": 0,
  "metadata": {
    "colab": {
      "name": "MultiVariLinearRegression.ipynb",
      "provenance": [],
      "authorship_tag": "ABX9TyPVwsSQtWQzL7ovr6d6T148",
      "include_colab_link": true
    },
    "kernelspec": {
      "name": "python3",
      "display_name": "Python 3"
    }
  },
  "cells": [
    {
      "cell_type": "markdown",
      "metadata": {
        "id": "view-in-github",
        "colab_type": "text"
      },
      "source": [
        "<a href=\"https://colab.research.google.com/github/savvyguru/MachineLearning/blob/master/MultiVariableLinearRegression.ipynb\" target=\"_parent\"><img src=\"https://colab.research.google.com/assets/colab-badge.svg\" alt=\"Open In Colab\"/></a>"
      ]
    },
    {
      "cell_type": "markdown",
      "metadata": {
        "id": "8MyPhGXUJFBp",
        "colab_type": "text"
      },
      "source": [
        "## **Load California Housing dataset**"
      ]
    },
    {
      "cell_type": "code",
      "metadata": {
        "id": "_jujRmUKKGJe",
        "colab_type": "code",
        "colab": {}
      },
      "source": [
        "import matplotlib.pyplot as plt\n",
        "import numpy as np\n",
        "import sklearn\n",
        "from sklearn import datasets, linear_model\n",
        "from sklearn.metrics import mean_squared_error, r2_score"
      ],
      "execution_count": 0,
      "outputs": []
    },
    {
      "cell_type": "code",
      "metadata": {
        "id": "mgFlOOdi9g4W",
        "colab_type": "code",
        "colab": {}
      },
      "source": [
        "numVariables = 8\n",
        "california_housing = sklearn.datasets.fetch_california_housing()\n",
        "X = california_housing.data[:, :numVariables]\n",
        "y = california_housing.target"
      ],
      "execution_count": 0,
      "outputs": []
    },
    {
      "cell_type": "markdown",
      "metadata": {
        "id": "Ry2d9_quBqab",
        "colab_type": "text"
      },
      "source": [
        "## **Split into training and test set**"
      ]
    },
    {
      "cell_type": "code",
      "metadata": {
        "id": "UXqLRbiOBG6h",
        "colab_type": "code",
        "colab": {
          "base_uri": "https://localhost:8080/",
          "height": 34
        },
        "outputId": "7cf6b3f4-4f14-43fc-b9fc-ef709773a5f8"
      },
      "source": [
        "# Split the data into training/testing sets\n",
        "X_train = X[:-20]\n",
        "X_test =  X[-20:]\n",
        "\n",
        "# Split the targets into training/testing sets\n",
        "y_train = y[:-20]\n",
        "y_test =  y[-20:]\n",
        "\n",
        "print(X_train.size)"
      ],
      "execution_count": 68,
      "outputs": [
        {
          "output_type": "stream",
          "text": [
            "164960\n"
          ],
          "name": "stdout"
        }
      ]
    },
    {
      "cell_type": "markdown",
      "metadata": {
        "id": "f0eUViSRJrbp",
        "colab_type": "text"
      },
      "source": [
        "## **Generate best fit polynomial (line)**"
      ]
    },
    {
      "cell_type": "code",
      "metadata": {
        "id": "LJc8JXKoHwlZ",
        "colab_type": "code",
        "colab": {}
      },
      "source": [
        "regr = linear_model.LinearRegression()\n",
        "regr.fit(X=X_train, y=y_train)\n",
        "y_pred = regr.predict(X_test)"
      ],
      "execution_count": 0,
      "outputs": []
    },
    {
      "cell_type": "markdown",
      "metadata": {
        "id": "ifFMv2scCj9m",
        "colab_type": "text"
      },
      "source": [
        "## **Make Prediction**"
      ]
    },
    {
      "cell_type": "code",
      "metadata": {
        "id": "yv5VfUKzCnXj",
        "colab_type": "code",
        "colab": {
          "base_uri": "https://localhost:8080/",
          "height": 85
        },
        "outputId": "acc7844e-5eb2-4c2e-cd48-2a42c83a1ce3"
      },
      "source": [
        "regr.predict(X_test)"
      ],
      "execution_count": 70,
      "outputs": [
        {
          "output_type": "execute_result",
          "data": {
            "text/plain": [
              "array([1.85559086, 0.9354762 , 0.71213257, 1.01871141, 0.88276857,\n",
              "       1.52159489, 0.57432876, 0.69104646, 0.80104118, 0.52335935,\n",
              "       0.95975835, 0.97552983, 0.82998142, 0.81659213, 1.21454624,\n",
              "       0.13225075, 0.55220242, 0.16975571, 0.31771127, 0.51439373])"
            ]
          },
          "metadata": {
            "tags": []
          },
          "execution_count": 70
        }
      ]
    },
    {
      "cell_type": "markdown",
      "metadata": {
        "id": "R_Vp5_-0J1gU",
        "colab_type": "text"
      },
      "source": [
        "## **Model Analysis**"
      ]
    },
    {
      "cell_type": "code",
      "metadata": {
        "id": "o_pBVUV_CZa4",
        "colab_type": "code",
        "colab": {
          "base_uri": "https://localhost:8080/",
          "height": 102
        },
        "outputId": "ef66fa5d-3905-4d84-d1ed-fc4a5ed991ed"
      },
      "source": [
        "print('Coefficients: \\n', regr.coef_)\n",
        "print('Mean squared error: %.2f'\n",
        "      % mean_squared_error(y_test, y_pred))\n",
        "print('Coefficient of determination: %.2f'\n",
        "      % r2_score(y_test, y_pred))\n"
      ],
      "execution_count": 71,
      "outputs": [
        {
          "output_type": "stream",
          "text": [
            "Coefficients: \n",
            " [ 4.36815715e-01  9.45296482e-03 -1.07391140e-01  6.45528515e-01\n",
            " -4.04589189e-06 -3.78599027e-03 -4.21693585e-01 -4.34816558e-01]\n",
            "Mean squared error: 0.22\n",
            "Coefficient of determination: -3.78\n"
          ],
          "name": "stdout"
        }
      ]
    }
  ]
}